{
 "cells": [
  {
   "cell_type": "code",
   "execution_count": 1,
   "metadata": {},
   "outputs": [
    {
     "name": "stdout",
     "output_type": "stream",
     "text": [
      "2.319822011025\n",
      "[[4.98574011 3.98089613 0.69817861 1.52507923 2.84430572]\n",
      " [2.61580597 2.15486368 1.23495386 1.51110529 2.19736573]\n",
      " [3.35829506 2.89944467 3.32824145 3.36641177 4.23566511]\n",
      " [0.85105386 1.03300314 4.75334969 4.0532461  4.24705685]]\n"
     ]
    },
    {
     "data": {
      "text/plain": [
       "'Terminator'"
      ]
     },
     "execution_count": 1,
     "metadata": {},
     "output_type": "execute_result"
    }
   ],
   "source": [
    "import numpy as np\n",
    "from sklearn.decomposition import NMF\n",
    "import pandas as pd\n",
    "\n",
    "# movie, ratings by users\n",
    "data = [\n",
    "    [5, 4, 1, 1, 3],\n",
    "    [3, 2, 1, 3, 1],\n",
    "    [3, 3, 3, 3, 5],\n",
    "    [1, 1, 5, 4, 4],\n",
    "]\n",
    "columns = ['Titanic', 'Tiffany', 'Terminator', 'Star Trek', 'Star Wars'] #movies\n",
    "index = ['Ada', 'Bob', 'Steve', 'Margaret'] #users\n",
    "\n",
    "R = pd.DataFrame(data, index=index, columns=columns).values\n",
    "\n",
    "#create a model and set the hyperparameters\n",
    "# model assumes R ~ PQ'\n",
    "model = NMF(n_components=2, init='random', random_state=10)\n",
    "\n",
    "model.fit(R)\n",
    "\n",
    "Q = model.components_  # movie-genre matrix\n",
    "\n",
    "P = model.transform(R)  # user-genre matrix\n",
    "\n",
    "print(model.reconstruction_err_) #reconstruction error\n",
    "\n",
    "nR = np.dot(P, Q)\n",
    "print(nR) ## The reconstructed matrix!\n",
    "\n",
    "# predict the hidden features for a new data point\n",
    "query = [[1, 2, 5, 4, 5]]\n",
    "#in this case, a new user providing ratings for the 5 movies.\n",
    "new_query = model.transform(query)\n",
    "R_pred = np.dot(new_query,Q)\n",
    "R_pred = zip(columns, R_pred.T)\n",
    "\n",
    "maximum = 0\n",
    "film_recommendation = ''\n",
    "for each in R_pred:\n",
    "    if each[1] > maximum:\n",
    "        maximum = each[1]\n",
    "        film_recommendation = each[0]\n",
    "\n",
    "film_recommendation\n"
   ]
  },
  {
   "cell_type": "code",
   "execution_count": null,
   "metadata": {},
   "outputs": [],
   "source": []
  }
 ],
 "metadata": {
  "kernelspec": {
   "display_name": "Python 3",
   "language": "python",
   "name": "python3"
  },
  "language_info": {
   "codemirror_mode": {
    "name": "ipython",
    "version": 3
   },
   "file_extension": ".py",
   "mimetype": "text/x-python",
   "name": "python",
   "nbconvert_exporter": "python",
   "pygments_lexer": "ipython3",
   "version": "3.7.3"
  }
 },
 "nbformat": 4,
 "nbformat_minor": 2
}
